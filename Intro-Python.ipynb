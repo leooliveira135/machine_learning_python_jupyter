{
 "cells": [
  {
   "cell_type": "code",
   "execution_count": 1,
   "metadata": {},
   "outputs": [
    {
     "data": {
      "text/plain": [
       "2"
      ]
     },
     "execution_count": 1,
     "metadata": {},
     "output_type": "execute_result"
    }
   ],
   "source": [
    "1+1"
   ]
  },
  {
   "cell_type": "code",
   "execution_count": 2,
   "metadata": {},
   "outputs": [
    {
     "name": "stdout",
     "output_type": "stream",
     "text": [
      "Hello World\n"
     ]
    }
   ],
   "source": [
    "print(\"Hello World\")"
   ]
  },
  {
   "cell_type": "code",
   "execution_count": 1,
   "metadata": {},
   "outputs": [
    {
     "name": "stdout",
     "output_type": "stream",
     "text": [
      "{3, 4}\n"
     ]
    }
   ],
   "source": [
    "s1 = {1,2,3,4}\n",
    "s2 = {3,4,5,6}\n",
    "inter = s1.intersection(s2)\n",
    "print(inter)"
   ]
  },
  {
   "cell_type": "code",
   "execution_count": 2,
   "metadata": {},
   "outputs": [
    {
     "name": "stdout",
     "output_type": "stream",
     "text": [
      "{1, 2}\n"
     ]
    }
   ],
   "source": [
    "s1 = {1,2,3,4}\n",
    "s2 = {3,4,5,6}\n",
    "diff = s1.difference(s2)\n",
    "print(diff)"
   ]
  },
  {
   "cell_type": "code",
   "execution_count": 4,
   "metadata": {},
   "outputs": [
    {
     "name": "stdout",
     "output_type": "stream",
     "text": [
      "{1, 2, 3, 4, 5, 6, 7}\n"
     ]
    }
   ],
   "source": [
    "lista = [1,2,3,3,3,4,5,5,6,7,7,7]\n",
    "s = set(lista)\n",
    "print(s)"
   ]
  },
  {
   "cell_type": "code",
   "execution_count": 19,
   "metadata": {
    "scrolled": false
   },
   "outputs": [
    {
     "name": "stdout",
     "output_type": "stream",
     "text": [
      "{'marcos': 28, 'maria': 20, 'pedro': 18}\n",
      "28\n",
      "25\n",
      "{'marcos': 25, 'maria': 20, 'pedro': 18, 'felipe': 30}\n",
      "25 20 18 30 \n",
      " dict_items([('marcos', 25), ('maria', 20), ('pedro', 18), ('felipe', 30)])\n",
      "dict_keys(['marcos', 'maria', 'pedro', 'felipe'])\n",
      "dict_values([25, 20, 18, 30])\n",
      "True\n",
      "False\n"
     ]
    }
   ],
   "source": [
    "dic = {\"marcos\":28,\"maria\":20,\"pedro\":18}\n",
    "print(dic)\n",
    "print(dic['marcos'])\n",
    "dic['marcos']=25\n",
    "print(dic['marcos'])\n",
    "dic['felipe']=30\n",
    "print(dic)\n",
    "\n",
    "for k in dic:\n",
    "    print(dic[k], end=\" \")\n",
    "    \n",
    "print(\"\\n\",dic.items())\n",
    "print(dic.keys())\n",
    "print(dic.values())\n",
    "print('maria' in dic)\n",
    "print('python' in dic)"
   ]
  },
  {
   "cell_type": "code",
   "execution_count": 27,
   "metadata": {
    "scrolled": true
   },
   "outputs": [
    {
     "name": "stdout",
     "output_type": "stream",
     "text": [
      "10\n"
     ]
    }
   ],
   "source": [
    "def f(*args):\n",
    "    return print(sum(args))\n",
    "\n",
    "lista = 1,2,3,4\n",
    "f(*lista)"
   ]
  },
  {
   "cell_type": "code",
   "execution_count": 29,
   "metadata": {},
   "outputs": [
    {
     "name": "stdout",
     "output_type": "stream",
     "text": [
      "100\n",
      "1234\n"
     ]
    }
   ],
   "source": [
    "class Conta:\n",
    "    \n",
    "    def __init__(self,cliente,numero):\n",
    "        self.cliente = cliente\n",
    "        self.numero = numero\n",
    "        \n",
    "class ContaEspecial(Conta):\n",
    "    \n",
    "    def __init__(self,cliente,numero,limite=0):\n",
    "        Conta.__init__(self,cliente,numero)\n",
    "        self.limite = limite\n",
    "        \n",
    "c = ContaEspecial('leo','1234',100)\n",
    "print(c.limite)\n",
    "print(c.numero)"
   ]
  },
  {
   "cell_type": "code",
   "execution_count": 34,
   "metadata": {},
   "outputs": [
    {
     "name": "stdout",
     "output_type": "stream",
     "text": [
      "6\n",
      "30\n"
     ]
    },
    {
     "data": {
      "text/plain": [
       "[2, 4, 6, 8, 10, 12, 14, 16, 18, 20]"
      ]
     },
     "execution_count": 34,
     "metadata": {},
     "output_type": "execute_result"
    }
   ],
   "source": [
    "dobro = lambda x: x*2\n",
    "print(dobro(3))\n",
    "\n",
    "soma = lambda x, y: x+y\n",
    "print(soma(10,20))\n",
    "\n",
    "lista = [1,2,3,4,5,6,7,8,9,10]\n",
    "list(filter(lambda x: x%2 == 0, lista))\n",
    "list(map(lambda x: x*2, lista))"
   ]
  }
 ],
 "metadata": {
  "kernelspec": {
   "display_name": "Python 3",
   "language": "python",
   "name": "python3"
  },
  "language_info": {
   "codemirror_mode": {
    "name": "ipython",
    "version": 3
   },
   "file_extension": ".py",
   "mimetype": "text/x-python",
   "name": "python",
   "nbconvert_exporter": "python",
   "pygments_lexer": "ipython3",
   "version": "3.7.3"
  }
 },
 "nbformat": 4,
 "nbformat_minor": 2
}
