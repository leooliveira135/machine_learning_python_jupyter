{
 "cells": [
  {
   "cell_type": "code",
   "execution_count": 2,
   "metadata": {},
   "outputs": [],
   "source": [
    "# Implementação do KNN com Sklearn\n",
    "from sklearn.neighbors import KNeighborsClassifier"
   ]
  },
  {
   "cell_type": "code",
   "execution_count": 3,
   "metadata": {},
   "outputs": [],
   "source": [
    "entradas, saidas = [], []"
   ]
  },
  {
   "cell_type": "code",
   "execution_count": 4,
   "metadata": {},
   "outputs": [],
   "source": [
    "with open('/home/excript/machine_learning/teste_python/haberman.data','r') as f:\n",
    "    for linha in f.readlines():\n",
    "        atrib = linha.replace('\\n','').split(',')\n",
    "        entradas.append([int(atrib[0]),int(atrib[2])])\n",
    "        saidas.append([int(atrib[3])])"
   ]
  },
  {
   "cell_type": "code",
   "execution_count": 5,
   "metadata": {},
   "outputs": [],
   "source": [
    "p = 0.6 #porcentagem dos dados para treinamento"
   ]
  },
  {
   "cell_type": "code",
   "execution_count": 10,
   "metadata": {
    "scrolled": true
   },
   "outputs": [
    {
     "name": "stdout",
     "output_type": "stream",
     "text": [
      "Total de treinamento: 183\n",
      "Total de testes: 123\n",
      "Total de acertos: 92\n",
      "Porcentagem de acertos: 74.80\n"
     ]
    },
    {
     "name": "stderr",
     "output_type": "stream",
     "text": [
      "/usr/local/lib/python3.7/site-packages/ipykernel_launcher.py:3: DataConversionWarning: A column-vector y was passed when a 1d array was expected. Please change the shape of y to (n_samples, ), for example using ravel().\n",
      "  This is separate from the ipykernel package so we can avoid doing imports until\n"
     ]
    }
   ],
   "source": [
    "limite = int(p*len(entradas))\n",
    "knn = KNeighborsClassifier(n_neighbors=15)\n",
    "knn.fit(entradas[:limite],saidas[:limite])\n",
    "labels = knn.predict(entradas[limite:])\n",
    "acertos, indice_label = 0,0\n",
    "\n",
    "for i in range(limite,len(entradas)):\n",
    "    if labels[indice_label] == saidas[i]: acertos += 1\n",
    "    indice_label += 1\n",
    "    \n",
    "print('Total de treinamento: %d' % limite)\n",
    "print('Total de testes: %d' % (len(entradas)-limite))\n",
    "print('Total de acertos: %d' % acertos)\n",
    "print('Porcentagem de acertos: %.2f' % (100 * acertos / (len(entradas) - limite)))"
   ]
  },
  {
   "cell_type": "code",
   "execution_count": 12,
   "metadata": {},
   "outputs": [],
   "source": [
    "'''\n",
    "Dataset: https://archive.ics.uci.edu/ml/datasets/Balance+Scale\n",
    "\n",
    "Attribute Information:\n",
    "\n",
    "1. Class Name: 3 (L, B, R) \n",
    "2. Left-Weight: 5 (1, 2, 3, 4, 5) \n",
    "3. Left-Distance: 5 (1, 2, 3, 4, 5) \n",
    "4. Right-Weight: 5 (1, 2, 3, 4, 5) \n",
    "5. Right-Distance: 5 (1, 2, 3, 4, 5)\n",
    "\n",
    "São 625 exemplos, 4 atributos e 3 possíveis classes.\n",
    "\n",
    "\"L\" -> 1\n",
    "\"B\" -> 2\n",
    "\"R\" -> 3\n",
    "\n",
    "'''\n",
    "\n",
    "import numpy as np"
   ]
  },
  {
   "cell_type": "code",
   "execution_count": 15,
   "metadata": {},
   "outputs": [
    {
     "name": "stdout",
     "output_type": "stream",
     "text": [
      "625\n",
      "625\n",
      "[[1. 1. 1. 1.]\n",
      " [1. 1. 1. 2.]\n",
      " [1. 1. 1. 3.]\n",
      " ...\n",
      " [5. 5. 5. 3.]\n",
      " [5. 5. 5. 4.]\n",
      " [5. 5. 5. 5.]]\n",
      "[2. 3. 3. 3. 3. 3. 3. 3. 3. 3. 3. 3. 3. 3. 3. 3. 3. 3. 3. 3. 3. 3. 3. 3.\n",
      " 3. 1. 2. 3. 3. 3. 2. 3. 3. 3. 3. 3. 3. 3. 3. 3. 3. 3. 3. 3. 3. 3. 3. 3.\n",
      " 3. 3. 1. 1. 2. 3. 3. 1. 3. 3. 3. 3. 2. 3. 3. 3. 3. 3. 3. 3. 3. 3. 3. 3.\n",
      " 3. 3. 3. 1. 1. 1. 2. 3. 1. 2. 3. 3. 3. 1. 3. 3. 3. 3. 2. 3. 3. 3. 3. 3.\n",
      " 3. 3. 3. 3. 1. 1. 1. 1. 2. 1. 1. 3. 3. 3. 1. 3. 3. 3. 3. 1. 3. 3. 3. 3.\n",
      " 2. 3. 3. 3. 3. 1. 2. 3. 3. 3. 2. 3. 3. 3. 3. 3. 3. 3. 3. 3. 3. 3. 3. 3.\n",
      " 3. 3. 3. 3. 3. 3. 1. 1. 1. 2. 3. 1. 2. 3. 3. 3. 1. 3. 3. 3. 3. 2. 3. 3.\n",
      " 3. 3. 3. 3. 3. 3. 3. 1. 1. 1. 1. 1. 1. 1. 2. 3. 3. 1. 2. 3. 3. 3. 1. 3.\n",
      " 3. 3. 3. 1. 3. 3. 3. 3. 1. 1. 1. 1. 1. 1. 1. 1. 2. 3. 1. 1. 3. 3. 3. 1.\n",
      " 2. 3. 3. 3. 1. 3. 3. 3. 3. 1. 1. 1. 1. 1. 1. 1. 1. 1. 2. 1. 1. 1. 3. 3.\n",
      " 1. 1. 3. 3. 3. 1. 2. 3. 3. 3. 1. 1. 2. 3. 3. 1. 3. 3. 3. 3. 2. 3. 3. 3.\n",
      " 3. 3. 3. 3. 3. 3. 3. 3. 3. 3. 3. 1. 1. 1. 1. 1. 1. 1. 2. 3. 3. 1. 2. 3.\n",
      " 3. 3. 1. 3. 3. 3. 3. 1. 3. 3. 3. 3. 1. 1. 1. 1. 1. 1. 1. 1. 1. 3. 1. 1.\n",
      " 2. 3. 3. 1. 1. 3. 3. 3. 1. 3. 3. 3. 3. 1. 1. 1. 1. 1. 1. 1. 1. 1. 1. 1.\n",
      " 1. 1. 2. 3. 1. 1. 2. 3. 3. 1. 1. 3. 3. 3. 1. 1. 1. 1. 1. 1. 1. 1. 1. 1.\n",
      " 1. 1. 1. 1. 2. 1. 1. 1. 3. 3. 1. 1. 2. 3. 3. 1. 1. 1. 2. 3. 1. 2. 3. 3.\n",
      " 3. 1. 3. 3. 3. 3. 2. 3. 3. 3. 3. 3. 3. 3. 3. 3. 1. 1. 1. 1. 1. 1. 1. 1.\n",
      " 2. 3. 1. 1. 3. 3. 3. 1. 2. 3. 3. 3. 1. 3. 3. 3. 3. 1. 1. 1. 1. 1. 1. 1.\n",
      " 1. 1. 1. 1. 1. 1. 2. 3. 1. 1. 2. 3. 3. 1. 1. 3. 3. 3. 1. 1. 1. 1. 1. 1.\n",
      " 1. 1. 1. 1. 1. 1. 1. 1. 1. 1. 1. 1. 2. 3. 1. 1. 1. 3. 3. 1. 1. 1. 1. 1.\n",
      " 1. 1. 1. 1. 1. 1. 1. 1. 1. 1. 1. 1. 1. 1. 2. 1. 1. 1. 2. 3. 1. 1. 1. 1.\n",
      " 2. 1. 1. 3. 3. 3. 1. 3. 3. 3. 3. 1. 3. 3. 3. 3. 2. 3. 3. 3. 3. 1. 1. 1.\n",
      " 1. 1. 1. 1. 1. 1. 2. 1. 1. 1. 3. 3. 1. 1. 3. 3. 3. 1. 2. 3. 3. 3. 1. 1.\n",
      " 1. 1. 1. 1. 1. 1. 1. 1. 1. 1. 1. 1. 2. 1. 1. 1. 3. 3. 1. 1. 2. 3. 3. 1.\n",
      " 1. 1. 1. 1. 1. 1. 1. 1. 1. 1. 1. 1. 1. 1. 1. 1. 1. 1. 2. 1. 1. 1. 2. 3.\n",
      " 1. 1. 1. 1. 1. 1. 1. 1. 1. 1. 1. 1. 1. 1. 1. 1. 1. 1. 1. 1. 1. 1. 1. 1.\n",
      " 2.]\n"
     ]
    }
   ],
   "source": [
    "# x são as entradas e y são as saidas\n",
    "\n",
    "x = np.genfromtxt('/home/excript/machine_learning/teste_python/dataset.data',delimiter=',',usecols=(1,2,3,4))\n",
    "y = np.genfromtxt('/home/excript/machine_learning/teste_python/dataset.data',delimiter=',',usecols=(0))\n",
    "\n",
    "print(len(x))\n",
    "print(len(y))\n",
    "print(x)\n",
    "print(y)"
   ]
  },
  {
   "cell_type": "code",
   "execution_count": 16,
   "metadata": {},
   "outputs": [],
   "source": [
    "from sklearn.model_selection import train_test_split"
   ]
  },
  {
   "cell_type": "code",
   "execution_count": 17,
   "metadata": {},
   "outputs": [],
   "source": [
    "x_treino, x_teste, y_treino, y_teste = train_test_split(x,y,test_size=0.3,random_state=42)"
   ]
  },
  {
   "cell_type": "code",
   "execution_count": 18,
   "metadata": {},
   "outputs": [
    {
     "name": "stdout",
     "output_type": "stream",
     "text": [
      "437\n"
     ]
    },
    {
     "data": {
      "text/plain": [
       "array([[2., 4., 1., 5.],\n",
       "       [1., 4., 3., 4.],\n",
       "       [5., 1., 5., 3.],\n",
       "       ...,\n",
       "       [3., 1., 5., 1.],\n",
       "       [4., 3., 3., 1.],\n",
       "       [1., 5., 1., 3.]])"
      ]
     },
     "execution_count": 18,
     "metadata": {},
     "output_type": "execute_result"
    }
   ],
   "source": [
    "print(len(x_treino))\n",
    "x_treino"
   ]
  },
  {
   "cell_type": "code",
   "execution_count": 20,
   "metadata": {},
   "outputs": [
    {
     "name": "stdout",
     "output_type": "stream",
     "text": [
      "188\n"
     ]
    },
    {
     "data": {
      "text/plain": [
       "array([[4., 3., 5., 3.],\n",
       "       [4., 5., 3., 1.],\n",
       "       [2., 4., 4., 1.],\n",
       "       [2., 4., 3., 3.],\n",
       "       [4., 5., 2., 1.],\n",
       "       [5., 1., 4., 1.],\n",
       "       [2., 2., 3., 4.],\n",
       "       [1., 4., 1., 3.],\n",
       "       [5., 2., 1., 3.],\n",
       "       [2., 1., 5., 1.],\n",
       "       [3., 1., 4., 1.],\n",
       "       [1., 2., 2., 2.],\n",
       "       [1., 3., 2., 1.],\n",
       "       [1., 4., 4., 1.],\n",
       "       [5., 3., 2., 3.],\n",
       "       [1., 4., 1., 2.],\n",
       "       [1., 1., 1., 3.],\n",
       "       [3., 5., 4., 4.],\n",
       "       [4., 1., 5., 1.],\n",
       "       [3., 2., 3., 2.],\n",
       "       [2., 1., 2., 2.],\n",
       "       [2., 1., 5., 4.],\n",
       "       [1., 2., 5., 5.],\n",
       "       [5., 5., 5., 2.],\n",
       "       [4., 3., 3., 3.],\n",
       "       [1., 5., 3., 1.],\n",
       "       [3., 1., 2., 3.],\n",
       "       [5., 4., 1., 4.],\n",
       "       [5., 5., 5., 1.],\n",
       "       [3., 1., 2., 2.],\n",
       "       [3., 4., 2., 5.],\n",
       "       [3., 1., 3., 2.],\n",
       "       [2., 3., 2., 5.],\n",
       "       [5., 3., 1., 5.],\n",
       "       [2., 1., 2., 3.],\n",
       "       [4., 5., 3., 3.],\n",
       "       [3., 4., 3., 1.],\n",
       "       [5., 5., 3., 3.],\n",
       "       [2., 3., 2., 2.],\n",
       "       [5., 4., 5., 5.],\n",
       "       [4., 1., 2., 2.],\n",
       "       [1., 2., 3., 5.],\n",
       "       [1., 4., 3., 2.],\n",
       "       [5., 5., 2., 4.],\n",
       "       [3., 3., 4., 4.],\n",
       "       [2., 4., 2., 4.],\n",
       "       [3., 1., 3., 1.],\n",
       "       [5., 1., 3., 4.],\n",
       "       [1., 4., 1., 4.],\n",
       "       [3., 4., 4., 5.],\n",
       "       [5., 3., 2., 2.],\n",
       "       [3., 2., 2., 2.],\n",
       "       [1., 1., 3., 1.],\n",
       "       [3., 1., 2., 5.],\n",
       "       [5., 5., 1., 1.],\n",
       "       [3., 3., 3., 2.],\n",
       "       [2., 1., 3., 1.],\n",
       "       [4., 3., 2., 5.],\n",
       "       [2., 4., 3., 1.],\n",
       "       [1., 2., 2., 1.],\n",
       "       [5., 4., 1., 5.],\n",
       "       [4., 5., 2., 3.],\n",
       "       [2., 3., 4., 3.],\n",
       "       [5., 1., 2., 5.],\n",
       "       [5., 4., 3., 4.],\n",
       "       [3., 3., 1., 1.],\n",
       "       [1., 3., 2., 2.],\n",
       "       [2., 3., 5., 2.],\n",
       "       [5., 2., 3., 1.],\n",
       "       [2., 5., 3., 1.],\n",
       "       [3., 1., 5., 3.],\n",
       "       [1., 1., 5., 5.],\n",
       "       [1., 4., 2., 3.],\n",
       "       [2., 2., 2., 4.],\n",
       "       [5., 2., 4., 4.],\n",
       "       [2., 4., 5., 1.],\n",
       "       [5., 4., 4., 3.],\n",
       "       [1., 3., 5., 1.],\n",
       "       [3., 5., 2., 3.],\n",
       "       [5., 1., 3., 3.],\n",
       "       [3., 5., 4., 5.],\n",
       "       [1., 3., 3., 1.],\n",
       "       [4., 1., 5., 4.],\n",
       "       [4., 2., 2., 1.],\n",
       "       [2., 4., 2., 5.],\n",
       "       [5., 4., 4., 5.],\n",
       "       [4., 4., 1., 1.],\n",
       "       [5., 3., 2., 5.],\n",
       "       [2., 2., 5., 5.],\n",
       "       [3., 5., 1., 1.],\n",
       "       [3., 1., 1., 1.],\n",
       "       [3., 3., 1., 2.],\n",
       "       [1., 2., 1., 5.],\n",
       "       [5., 3., 5., 1.],\n",
       "       [1., 5., 1., 2.],\n",
       "       [2., 4., 4., 4.],\n",
       "       [3., 2., 4., 3.],\n",
       "       [3., 1., 5., 5.],\n",
       "       [4., 2., 4., 3.],\n",
       "       [3., 1., 5., 2.],\n",
       "       [2., 4., 1., 4.],\n",
       "       [5., 2., 2., 5.],\n",
       "       [4., 2., 5., 2.],\n",
       "       [3., 2., 2., 5.],\n",
       "       [2., 5., 2., 2.],\n",
       "       [1., 4., 2., 2.],\n",
       "       [3., 4., 4., 1.],\n",
       "       [1., 5., 2., 5.],\n",
       "       [4., 3., 4., 4.],\n",
       "       [2., 5., 1., 3.],\n",
       "       [1., 3., 3., 4.],\n",
       "       [2., 2., 2., 1.],\n",
       "       [1., 3., 5., 3.],\n",
       "       [4., 1., 2., 3.],\n",
       "       [5., 4., 2., 4.],\n",
       "       [1., 5., 4., 4.],\n",
       "       [5., 4., 2., 5.],\n",
       "       [3., 3., 3., 1.],\n",
       "       [5., 4., 2., 1.],\n",
       "       [2., 4., 3., 2.],\n",
       "       [2., 1., 4., 1.],\n",
       "       [5., 3., 5., 4.],\n",
       "       [2., 5., 1., 4.],\n",
       "       [4., 2., 3., 3.],\n",
       "       [2., 3., 3., 4.],\n",
       "       [5., 1., 3., 5.],\n",
       "       [4., 4., 4., 5.],\n",
       "       [1., 1., 2., 2.],\n",
       "       [1., 5., 1., 5.],\n",
       "       [1., 5., 3., 5.],\n",
       "       [4., 5., 1., 3.],\n",
       "       [4., 5., 5., 2.],\n",
       "       [4., 5., 4., 5.],\n",
       "       [5., 3., 4., 4.],\n",
       "       [4., 3., 1., 4.],\n",
       "       [3., 3., 1., 5.],\n",
       "       [4., 2., 4., 1.],\n",
       "       [4., 1., 5., 5.],\n",
       "       [3., 2., 4., 1.],\n",
       "       [5., 3., 2., 4.],\n",
       "       [2., 3., 1., 3.],\n",
       "       [4., 4., 5., 4.],\n",
       "       [1., 2., 4., 3.],\n",
       "       [1., 3., 5., 4.],\n",
       "       [5., 2., 4., 2.],\n",
       "       [1., 3., 4., 2.],\n",
       "       [1., 1., 3., 2.],\n",
       "       [3., 4., 2., 3.],\n",
       "       [2., 5., 4., 5.],\n",
       "       [5., 2., 5., 4.],\n",
       "       [2., 3., 5., 5.],\n",
       "       [1., 4., 2., 4.],\n",
       "       [4., 3., 4., 5.],\n",
       "       [3., 5., 3., 4.],\n",
       "       [1., 4., 1., 5.],\n",
       "       [1., 1., 5., 4.],\n",
       "       [4., 1., 4., 1.],\n",
       "       [3., 3., 2., 1.],\n",
       "       [2., 2., 4., 1.],\n",
       "       [5., 5., 4., 2.],\n",
       "       [3., 4., 3., 2.],\n",
       "       [2., 4., 3., 4.],\n",
       "       [2., 1., 3., 3.],\n",
       "       [5., 3., 3., 4.],\n",
       "       [5., 2., 5., 1.],\n",
       "       [2., 3., 1., 2.],\n",
       "       [1., 1., 2., 5.],\n",
       "       [4., 2., 2., 3.],\n",
       "       [2., 5., 3., 4.],\n",
       "       [4., 2., 2., 4.],\n",
       "       [5., 5., 3., 1.],\n",
       "       [3., 1., 4., 4.],\n",
       "       [1., 4., 2., 5.],\n",
       "       [3., 2., 4., 2.],\n",
       "       [3., 3., 3., 3.],\n",
       "       [3., 3., 5., 1.],\n",
       "       [4., 2., 1., 4.],\n",
       "       [5., 5., 2., 2.],\n",
       "       [2., 5., 5., 3.],\n",
       "       [5., 1., 2., 2.],\n",
       "       [3., 2., 5., 5.],\n",
       "       [2., 2., 1., 4.],\n",
       "       [1., 4., 1., 1.],\n",
       "       [1., 4., 4., 3.],\n",
       "       [3., 3., 5., 2.],\n",
       "       [1., 3., 4., 4.],\n",
       "       [1., 1., 4., 1.],\n",
       "       [4., 1., 2., 1.]])"
      ]
     },
     "execution_count": 20,
     "metadata": {},
     "output_type": "execute_result"
    }
   ],
   "source": [
    "print(len(x_teste))\n",
    "x_teste"
   ]
  },
  {
   "cell_type": "code",
   "execution_count": 21,
   "metadata": {},
   "outputs": [
    {
     "data": {
      "text/plain": [
       "3.0"
      ]
     },
     "execution_count": 21,
     "metadata": {},
     "output_type": "execute_result"
    }
   ],
   "source": [
    "y_teste[0]"
   ]
  },
  {
   "cell_type": "code",
   "execution_count": 22,
   "metadata": {},
   "outputs": [
    {
     "name": "stdout",
     "output_type": "stream",
     "text": [
      "188\n"
     ]
    },
    {
     "data": {
      "text/plain": [
       "array([1., 1., 1., 1., 1., 1., 3., 1., 1., 3., 3., 3., 1., 3., 1., 1., 3.,\n",
       "       3., 3., 1., 3., 3., 3., 1., 1., 1., 3., 1., 1., 1., 1., 3., 3., 1.,\n",
       "       3., 1., 1., 1., 1., 1., 1., 3., 1., 1., 3., 1., 1., 3., 1., 3., 1.,\n",
       "       1., 3., 3., 1., 1., 3., 1., 1., 1., 1., 1., 3., 3., 1., 1., 3., 3.,\n",
       "       1., 1., 3., 3., 3., 3., 3., 1., 1., 3., 1., 3., 3., 3., 3., 1., 3.,\n",
       "       1., 1., 1., 3., 1., 1., 1., 3., 1., 1., 3., 3., 3., 3., 3., 1., 3.,\n",
       "       3., 3., 1., 1., 1., 3., 3., 1., 3., 1., 3., 3., 1., 3., 1., 1., 1.,\n",
       "       1., 3., 3., 1., 3., 3., 3., 3., 3., 1., 3., 1., 1., 1., 3., 1., 1.,\n",
       "       1., 3., 1., 1., 1., 1., 3., 3., 1., 3., 3., 1., 3., 3., 3., 3., 3.,\n",
       "       1., 1., 3., 1., 1., 3., 1., 1., 3., 3., 1., 1., 1., 3., 1., 3., 3.,\n",
       "       1., 3., 3., 3., 1., 1., 1., 1., 3., 1., 3., 3., 1., 3., 3., 3., 3.,\n",
       "       1.])"
      ]
     },
     "execution_count": 22,
     "metadata": {},
     "output_type": "execute_result"
    }
   ],
   "source": [
    "from sklearn.neighbors import KNeighborsClassifier\n",
    "\n",
    "knn = KNeighborsClassifier(n_neighbors=17,p=2)\n",
    "knn.fit(x_treino,y_treino)\n",
    "labels = knn.predict(x_teste)\n",
    "print(len(labels))\n",
    "labels"
   ]
  },
  {
   "cell_type": "code",
   "execution_count": 23,
   "metadata": {},
   "outputs": [
    {
     "data": {
      "text/plain": [
       "array([3., 1., 1., 3., 1., 1., 3., 1., 1., 3., 3., 3., 1., 2., 1., 1., 3.,\n",
       "       3., 3., 2., 3., 3., 3., 1., 1., 1., 3., 1., 1., 3., 1., 3., 3., 1.,\n",
       "       3., 1., 1., 1., 1., 3., 2., 3., 3., 1., 3., 2., 2., 3., 2., 3., 1.,\n",
       "       1., 3., 3., 1., 1., 3., 1., 1., 2., 1., 1., 3., 3., 1., 1., 3., 3.,\n",
       "       1., 1., 3., 3., 3., 3., 3., 1., 1., 3., 1., 3., 3., 2., 3., 1., 3.,\n",
       "       2., 1., 1., 3., 1., 1., 1., 3., 1., 1., 3., 3., 3., 3., 3., 1., 2.,\n",
       "       3., 3., 1., 2., 1., 3., 3., 1., 3., 1., 3., 3., 1., 3., 1., 1., 1.,\n",
       "       1., 3., 3., 1., 3., 3., 3., 3., 3., 2., 3., 1., 1., 2., 3., 1., 1.,\n",
       "       1., 3., 1., 1., 1., 3., 3., 3., 1., 3., 3., 1., 3., 3., 3., 3., 3.,\n",
       "       1., 3., 3., 2., 1., 2., 1., 1., 3., 3., 1., 1., 1., 3., 1., 3., 2.,\n",
       "       1., 3., 3., 3., 2., 1., 1., 1., 3., 1., 3., 2., 1., 3., 3., 3., 3.,\n",
       "       1.])"
      ]
     },
     "execution_count": 23,
     "metadata": {},
     "output_type": "execute_result"
    }
   ],
   "source": [
    "y_teste"
   ]
  },
  {
   "cell_type": "code",
   "execution_count": 24,
   "metadata": {},
   "outputs": [
    {
     "data": {
      "text/plain": [
       "163"
      ]
     },
     "execution_count": 24,
     "metadata": {},
     "output_type": "execute_result"
    }
   ],
   "source": [
    "np.sum(labels == y_teste)"
   ]
  },
  {
   "cell_type": "code",
   "execution_count": 26,
   "metadata": {},
   "outputs": [
    {
     "data": {
      "text/plain": [
       "163"
      ]
     },
     "execution_count": 26,
     "metadata": {},
     "output_type": "execute_result"
    }
   ],
   "source": [
    "(labels == y_teste).sum()"
   ]
  },
  {
   "cell_type": "code",
   "execution_count": 27,
   "metadata": {},
   "outputs": [
    {
     "data": {
      "text/plain": [
       "86.70212765957447"
      ]
     },
     "execution_count": 27,
     "metadata": {},
     "output_type": "execute_result"
    }
   ],
   "source": [
    "(100 * (labels == y_teste).sum() / len(x_teste))"
   ]
  },
  {
   "cell_type": "code",
   "execution_count": 28,
   "metadata": {},
   "outputs": [
    {
     "data": {
      "text/plain": [
       "0.8670212765957447"
      ]
     },
     "execution_count": 28,
     "metadata": {},
     "output_type": "execute_result"
    }
   ],
   "source": [
    "knn.score(x_teste,y_teste)"
   ]
  },
  {
   "cell_type": "code",
   "execution_count": 29,
   "metadata": {},
   "outputs": [
    {
     "data": {
      "text/plain": [
       "0.8670212765957447"
      ]
     },
     "execution_count": 29,
     "metadata": {},
     "output_type": "execute_result"
    }
   ],
   "source": [
    "np.mean(labels == y_teste)"
   ]
  },
  {
   "cell_type": "code",
   "execution_count": null,
   "metadata": {},
   "outputs": [],
   "source": []
  }
 ],
 "metadata": {
  "kernelspec": {
   "display_name": "Python 3",
   "language": "python",
   "name": "python3"
  },
  "language_info": {
   "codemirror_mode": {
    "name": "ipython",
    "version": 3
   },
   "file_extension": ".py",
   "mimetype": "text/x-python",
   "name": "python",
   "nbconvert_exporter": "python",
   "pygments_lexer": "ipython3",
   "version": "3.7.6"
  }
 },
 "nbformat": 4,
 "nbformat_minor": 2
}
