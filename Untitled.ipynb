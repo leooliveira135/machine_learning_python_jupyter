{
 "cells": [
  {
   "cell_type": "code",
   "execution_count": 1,
   "metadata": {},
   "outputs": [],
   "source": [
    "import xml.etree.ElementTree as ET"
   ]
  },
  {
   "cell_type": "code",
   "execution_count": 3,
   "metadata": {},
   "outputs": [],
   "source": [
    "tree = ET.parse('movies.xml')\n",
    "root = tree.getroot()"
   ]
  },
  {
   "cell_type": "code",
   "execution_count": 4,
   "metadata": {},
   "outputs": [
    {
     "data": {
      "text/plain": [
       "'collection'"
      ]
     },
     "execution_count": 4,
     "metadata": {},
     "output_type": "execute_result"
    }
   ],
   "source": [
    "root.tag"
   ]
  },
  {
   "cell_type": "code",
   "execution_count": 5,
   "metadata": {},
   "outputs": [
    {
     "data": {
      "text/plain": [
       "{}"
      ]
     },
     "execution_count": 5,
     "metadata": {},
     "output_type": "execute_result"
    }
   ],
   "source": [
    "root.attrib"
   ]
  },
  {
   "cell_type": "code",
   "execution_count": 6,
   "metadata": {},
   "outputs": [
    {
     "name": "stdout",
     "output_type": "stream",
     "text": [
      "genre {'category': 'Action'}\n",
      "genre {'category': 'Thriller'}\n"
     ]
    }
   ],
   "source": [
    "for child in root:\n",
    "    print(child.tag,child.attrib)"
   ]
  },
  {
   "cell_type": "code",
   "execution_count": 8,
   "metadata": {},
   "outputs": [
    {
     "data": {
      "text/plain": [
       "['collection',\n",
       " 'genre',\n",
       " 'decade',\n",
       " 'movie',\n",
       " 'format',\n",
       " 'year',\n",
       " 'rating',\n",
       " 'description',\n",
       " 'movie',\n",
       " 'format',\n",
       " 'year',\n",
       " 'rating',\n",
       " 'description',\n",
       " 'movie',\n",
       " 'format',\n",
       " 'year',\n",
       " 'rating',\n",
       " 'description',\n",
       " 'decade',\n",
       " 'movie',\n",
       " 'format',\n",
       " 'year',\n",
       " 'rating',\n",
       " 'description',\n",
       " 'movie',\n",
       " 'format',\n",
       " 'year',\n",
       " 'rating',\n",
       " 'description',\n",
       " 'movie',\n",
       " 'format',\n",
       " 'year',\n",
       " 'rating',\n",
       " 'description',\n",
       " 'genre',\n",
       " 'decade',\n",
       " 'movie',\n",
       " 'format',\n",
       " 'year',\n",
       " 'rating',\n",
       " 'description',\n",
       " 'decade',\n",
       " 'movie',\n",
       " 'format',\n",
       " 'year',\n",
       " 'rating',\n",
       " 'description',\n",
       " 'movie',\n",
       " 'format',\n",
       " 'year',\n",
       " 'rating',\n",
       " 'description']"
      ]
     },
     "execution_count": 8,
     "metadata": {},
     "output_type": "execute_result"
    }
   ],
   "source": [
    "[elem.tag for elem in root.iter()]"
   ]
  },
  {
   "cell_type": "code",
   "execution_count": 10,
   "metadata": {},
   "outputs": [
    {
     "name": "stdout",
     "output_type": "stream",
     "text": [
      "<?xml version='1.0' encoding='utf8'?>\n",
      "<collection>\n",
      "    <genre category=\"Action\">\n",
      "        <decade years=\"1980s\">\n",
      "            <movie favorite=\"True\" title=\"Indiana Jones: The raiders of the lost Ark\">\n",
      "                <format multiple=\"No\">DVD</format>\n",
      "                <year>1981</year>\n",
      "                <rating>PG</rating>\n",
      "                <description>\n",
      "                'Archaeologist and adventurer Indiana Jones \n",
      "                is hired by the U.S. government to find the Ark of the \n",
      "                Covenant before the Nazis.'\n",
      "                </description>\n",
      "            </movie>\n",
      "               <movie favorite=\"True\" title=\"THE KARATE KID\">\n",
      "               <format multiple=\"Yes\">DVD,Online</format>\n",
      "               <year>1984</year>\n",
      "               <rating>PG</rating>\n",
      "               <description>None provided.</description>\n",
      "            </movie>\n",
      "            <movie favorite=\"False\" title=\"Back 2 the Future\">\n",
      "               <format multiple=\"False\">Blu-ray</format>\n",
      "               <year>1985</year>\n",
      "               <rating>PG</rating>\n",
      "               <description>Marty McFly</description>\n",
      "            </movie>\n",
      "        </decade>\n",
      "        <decade years=\"1990s\">\n",
      "            <movie favorite=\"False\" title=\"X-Men\">\n",
      "               <format multiple=\"Yes\">dvd, digital</format>\n",
      "               <year>2000</year>\n",
      "               <rating>PG-13</rating>\n",
      "               <description>Two mutants come to a private academy for their kind whose resident superhero team must \n",
      "               oppose a terrorist organization with similar powers.</description>\n",
      "            </movie>\n",
      "            <movie favorite=\"True\" title=\"Batman Returns\">\n",
      "               <format multiple=\"No\">VHS</format>\n",
      "               <year>1992</year>\n",
      "               <rating>PG13</rating>\n",
      "               <description>NA.</description>\n",
      "            </movie>\n",
      "               <movie favorite=\"False\" title=\"Reservoir Dogs\">\n",
      "               <format multiple=\"No\">Online</format>\n",
      "               <year>1992</year>\n",
      "               <rating>R</rating>\n",
      "               <description>WhAtEvER I Want!!!?!</description>\n",
      "            </movie>\n",
      "        </decade>    \n",
      "    </genre>\n",
      "\n",
      "    <genre category=\"Thriller\">\n",
      "        <decade years=\"1970s\">\n",
      "            <movie favorite=\"False\" title=\"ALIEN\">\n",
      "                <format multiple=\"Yes\">DVD</format>\n",
      "                <year>1979</year>\n",
      "                <rating>R</rating>\n",
      "                <description>\"\"\"\"\"\"\"\"\"</description>\n",
      "            </movie>\n",
      "        </decade>\n",
      "        <decade years=\"1980s\">\n",
      "            <movie favorite=\"True\" title=\"Ferris Bueller's Day Off\">\n",
      "                <format multiple=\"No\">DVD</format>\n",
      "                <year>1986</year>\n",
      "                <rating>PG13</rating>\n",
      "                <description>Funny movie about a funny guy</description>\n",
      "            </movie>\n",
      "            <movie favorite=\"FALSE\" title=\"American Psycho\">\n",
      "                <format multiple=\"No\">blue-ray</format>\n",
      "                <year>2000</year>\n",
      "                <rating>Unrated</rating>\n",
      "                <description>psychopathic Bateman</description>\n",
      "            </movie>\n",
      "        </decade>\n",
      "    </genre>\n",
      "</collection>\n"
     ]
    }
   ],
   "source": [
    "print(ET.tostring(root,encoding='utf8').decode('utf8'))"
   ]
  },
  {
   "cell_type": "code",
   "execution_count": 13,
   "metadata": {},
   "outputs": [
    {
     "name": "stdout",
     "output_type": "stream",
     "text": [
      "{'favorite': 'True', 'title': 'Indiana Jones: The raiders of the lost Ark'}\n",
      "\n",
      "                \n",
      "{'favorite': 'True', 'title': 'THE KARATE KID'}\n",
      "\n",
      "               \n",
      "{'favorite': 'False', 'title': 'Back 2 the Future'}\n",
      "\n",
      "               \n",
      "{'favorite': 'False', 'title': 'X-Men'}\n",
      "\n",
      "               \n",
      "{'favorite': 'True', 'title': 'Batman Returns'}\n",
      "\n",
      "               \n",
      "{'favorite': 'False', 'title': 'Reservoir Dogs'}\n",
      "\n",
      "               \n",
      "{'favorite': 'False', 'title': 'ALIEN'}\n",
      "\n",
      "                \n",
      "{'favorite': 'True', 'title': \"Ferris Bueller's Day Off\"}\n",
      "\n",
      "                \n",
      "{'favorite': 'FALSE', 'title': 'American Psycho'}\n",
      "\n",
      "                \n"
     ]
    }
   ],
   "source": [
    "for movie in root.iter('movie'):\n",
    "    print(movie.attrib)"
   ]
  },
  {
   "cell_type": "code",
   "execution_count": 12,
   "metadata": {},
   "outputs": [
    {
     "name": "stdout",
     "output_type": "stream",
     "text": [
      "\n",
      "                'Archaeologist and adventurer Indiana Jones \n",
      "                is hired by the U.S. government to find the Ark of the \n",
      "                Covenant before the Nazis.'\n",
      "                \n",
      "None provided.\n",
      "Marty McFly\n",
      "Two mutants come to a private academy for their kind whose resident superhero team must \n",
      "               oppose a terrorist organization with similar powers.\n",
      "NA.\n",
      "WhAtEvER I Want!!!?!\n",
      "\"\"\"\"\"\"\"\"\"\n",
      "Funny movie about a funny guy\n",
      "psychopathic Bateman\n"
     ]
    }
   ],
   "source": [
    "for description in root.iter('description'):\n",
    "    print(description.text)"
   ]
  },
  {
   "cell_type": "code",
   "execution_count": 16,
   "metadata": {},
   "outputs": [
    {
     "name": "stdout",
     "output_type": "stream",
     "text": [
      "{'favorite': 'True', 'title': 'Batman Returns'}\n",
      "{'favorite': 'False', 'title': 'Reservoir Dogs'}\n"
     ]
    }
   ],
   "source": [
    "for movie in root.findall(\"./genre/decade/movie/[year='1992']\"):\n",
    "    print(movie.attrib)"
   ]
  },
  {
   "cell_type": "code",
   "execution_count": 17,
   "metadata": {},
   "outputs": [],
   "source": [
    "import pandas as pd"
   ]
  },
  {
   "cell_type": "code",
   "execution_count": 21,
   "metadata": {},
   "outputs": [],
   "source": [
    "for movie in root.findall(\"./genre/decade/movie/[year='1992']\"):\n",
    "    movie_df = pd.DataFrame([movie.attrib])"
   ]
  },
  {
   "cell_type": "code",
   "execution_count": 24,
   "metadata": {},
   "outputs": [
    {
     "ename": "ParseError",
     "evalue": "syntax error: line 1, column 0 (<string>)",
     "output_type": "error",
     "traceback": [
      "Traceback \u001b[0;36m(most recent call last)\u001b[0m:\n",
      "  File \u001b[1;32m\"/usr/local/lib/python3.6/site-packages/IPython/core/interactiveshell.py\"\u001b[0m, line \u001b[1;32m3265\u001b[0m, in \u001b[1;35mrun_code\u001b[0m\n    exec(code_obj, self.user_global_ns, self.user_ns)\n",
      "  File \u001b[1;32m\"<ipython-input-24-4f4c0b82ae37>\"\u001b[0m, line \u001b[1;32m41\u001b[0m, in \u001b[1;35m<module>\u001b[0m\n    xml2df = Xml2Dataframe(\"movies.xml\")\n",
      "  File \u001b[1;32m\"<ipython-input-24-4f4c0b82ae37>\"\u001b[0m, line \u001b[1;32m6\u001b[0m, in \u001b[1;35m__init__\u001b[0m\n    self.root = ET.XML(xml_data)\n",
      "\u001b[0;36m  File \u001b[0;32m\"/usr/lib64/python3.6/xml/etree/ElementTree.py\"\u001b[0;36m, line \u001b[0;32m1315\u001b[0;36m, in \u001b[0;35mXML\u001b[0;36m\u001b[0m\n\u001b[0;31m    return parser.close()\u001b[0m\n",
      "\u001b[0;36m  File \u001b[0;32m\"<string>\"\u001b[0;36m, line \u001b[0;32munknown\u001b[0m\n\u001b[0;31mParseError\u001b[0m\u001b[0;31m:\u001b[0m syntax error: line 1, column 0\n"
     ]
    }
   ],
   "source": [
    "import xml.etree.ElementTree as ET\n",
    "import pandas as pd\n",
    "\n",
    "class Xml2Dataframe:\n",
    "    def __init__(self,xml_data):\n",
    "        self.root = ET.XML(xml_data)\n",
    "        \n",
    "    def parse_root(self,root):\n",
    "        \"\"\"\n",
    "            Retorna uma lista de dicionários a partir do texto\n",
    "            e atributos dos filhos sobre esta raíz XML\n",
    "        \"\"\"\n",
    "        return [self.parse_element(child) for child in iter(root)]\n",
    "    \n",
    "    def parse_element(self,element,parsed=None):\n",
    "        \"\"\"\n",
    "            Coleta {chave:valor} e {tag:texto} deste elemento \n",
    "            XML e todos os seus filhos em um simples dicionário\n",
    "            de strings\n",
    "        \"\"\"\n",
    "        if parsed is None:\n",
    "            parsed = dict()\n",
    "            \n",
    "        for key in element.keys():\n",
    "            if key not in parsed:\n",
    "                parsed[key] = element.attrib.get(key)\n",
    "            else:\n",
    "                raise ValueError('duplicate attribute {0} at element {1}').format(key,element.getroottree().getpath(element))\n",
    "                \n",
    "        \"\"\"Aplicando recursividade\"\"\"\n",
    "        for child in list(element):\n",
    "            self.parse_element(child,parsed)\n",
    "            \n",
    "        return parsed\n",
    "    \n",
    "    def process_data(self):\n",
    "        \"\"\"Inicia a raiz XML, converte e retorna um dataframe\"\"\"\n",
    "        structure_data = self.parse.root(self.root)\n",
    "        return pd.DataFrame(structure_data)\n",
    "    \n",
    "xml2df = Xml2Dataframe(\"movies.xml\")\n",
    "xml_df = xmd2df.process_data()"
   ]
  },
  {
   "cell_type": "code",
   "execution_count": null,
   "metadata": {},
   "outputs": [],
   "source": [
    "import xmltodict\n",
    "\n",
    "with open('movies.xml') as fd:\n",
    "    doc = xmltodict.parse(fd.read())"
   ]
  },
  {
   "cell_type": "code",
   "execution_count": null,
   "metadata": {},
   "outputs": [],
   "source": [
    "import pandas as pd\n",
    "import xml.etree.ElementTree as ET\n",
    "\n",
    "path_to_xml_file = \"movies.xml\"\n",
    "\n",
    "# Load xml file data\n",
    "tree = ET.parse(path_to_xml_file)\n",
    "\n",
    "data = []\n",
    "for el in tree.iterfind('*'):\n",
    "    for i in el.iterfind('*'):\n",
    "        data.append(dict(i.items()))\n",
    "\n",
    "df = pd.DataFrame(data)"
   ]
  },
  {
   "cell_type": "code",
   "execution_count": null,
   "metadata": {},
   "outputs": [],
   "source": []
  }
 ],
 "metadata": {
  "kernelspec": {
   "display_name": "Python 3",
   "language": "python",
   "name": "python3"
  },
  "language_info": {
   "codemirror_mode": {
    "name": "ipython",
    "version": 3
   },
   "file_extension": ".py",
   "mimetype": "text/x-python",
   "name": "python",
   "nbconvert_exporter": "python",
   "pygments_lexer": "ipython3",
   "version": "3.7.3"
  }
 },
 "nbformat": 4,
 "nbformat_minor": 2
}
